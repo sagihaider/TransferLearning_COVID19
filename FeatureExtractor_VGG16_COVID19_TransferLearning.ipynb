{
  "nbformat": 4,
  "nbformat_minor": 0,
  "metadata": {
    "colab": {
      "name": "FeatureExtractor_VGG16_COVID19_TransferLearning.ipynb",
      "provenance": [],
      "authorship_tag": "ABX9TyNL2F3SKx7aG/rUSh9SExJL",
      "include_colab_link": true
    },
    "kernelspec": {
      "name": "python3",
      "display_name": "Python 3"
    },
    "accelerator": "GPU"
  },
  "cells": [
    {
      "cell_type": "markdown",
      "metadata": {
        "id": "view-in-github",
        "colab_type": "text"
      },
      "source": [
        "<a href=\"https://colab.research.google.com/github/sagihaider/TransferLearning_COVID19/blob/main/FeatureExtractor_VGG16_COVID19_TransferLearning.ipynb\" target=\"_parent\"><img src=\"https://colab.research.google.com/assets/colab-badge.svg\" alt=\"Open In Colab\"/></a>"
      ]
    },
    {
      "cell_type": "code",
      "metadata": {
        "colab": {
          "base_uri": "https://localhost:8080/"
        },
        "id": "fPMUkgocMK4i",
        "outputId": "26e7e590-1bc3-480e-ec05-78f0b1b01a87"
      },
      "source": [
        "!git clone https://github.com/UCSD-AI4H/COVID-CT.git"
      ],
      "execution_count": 1,
      "outputs": [
        {
          "output_type": "stream",
          "text": [
            "Cloning into 'COVID-CT'...\n",
            "remote: Enumerating objects: 5459, done.\u001b[K\n",
            "remote: Total 5459 (delta 0), reused 0 (delta 0), pack-reused 5459\u001b[K\n",
            "Receiving objects: 100% (5459/5459), 1.09 GiB | 45.21 MiB/s, done.\n",
            "Resolving deltas: 100% (360/360), done.\n",
            "Checking out files: 100% (1048/1048), done.\n"
          ],
          "name": "stdout"
        }
      ]
    },
    {
      "cell_type": "code",
      "metadata": {
        "id": "qzw01kx1Mg8A"
      },
      "source": [
        "## unzip archives  q - quite, n - don't overwrite\n",
        "!unzip -q -n '/content/COVID-CT/Images-processed/CT_COVID.zip'\n",
        "!unzip -q -n '/content/COVID-CT/Images-processed/CT_NonCOVID.zip'"
      ],
      "execution_count": 2,
      "outputs": []
    },
    {
      "cell_type": "code",
      "metadata": {
        "colab": {
          "base_uri": "https://localhost:8080/"
        },
        "id": "75UTVGBlMovj",
        "outputId": "6e79e411-721b-4ee7-c6e2-9b7b2fe0d743"
      },
      "source": [
        "import os\n",
        "path='/content/CT_COVID/'\n",
        "for count, filename in enumerate(os.listdir(path)): \n",
        "    dst =\"covid-\" + str(count) + \".png\"\n",
        "    src =path+ filename \n",
        "    dst =path+ dst \n",
        "        \n",
        "    # rename() function will \n",
        "    # rename all the files \n",
        "    os.rename(src, dst)\n",
        "print(\"Covid Positive cases: \", count)\n",
        "\n",
        "path='/content/CT_NonCOVID/'\n",
        "for count, filename in enumerate(os.listdir(path)): \n",
        "    dst =\"noncovid-\" + str(count) + \".png\"\n",
        "    src =path+ filename \n",
        "    dst =path+ dst \n",
        "        \n",
        "    # rename() function will \n",
        "    # rename all the files \n",
        "    os.rename(src, dst)\n",
        "\n",
        "print(\"Covid Negative cases: \", count)"
      ],
      "execution_count": 3,
      "outputs": [
        {
          "output_type": "stream",
          "text": [
            "Covid Positive cases:  348\n",
            "Covid Negative cases:  396\n"
          ],
          "name": "stdout"
        }
      ]
    },
    {
      "cell_type": "code",
      "metadata": {
        "id": "HtY3_hkFMuBe"
      },
      "source": [
        "base_dir = '/content/covid19_CT'\n",
        "if not os.path.exists(base_dir): os.mkdir(base_dir)"
      ],
      "execution_count": 4,
      "outputs": []
    },
    {
      "cell_type": "code",
      "metadata": {
        "id": "wyovAUJiMwcB"
      },
      "source": [
        "train_dir = os.path.join(base_dir, 'train')\n",
        "if not os.path.exists(train_dir): os.mkdir(train_dir)\n",
        "\n",
        "validation_dir = os.path.join(base_dir, 'validation')\n",
        "if not os.path.exists(validation_dir):os.mkdir(validation_dir)\n",
        "\n",
        "test_dir = os.path.join(base_dir, 'test')\n",
        "if not os.path.exists(test_dir):os.mkdir(test_dir)"
      ],
      "execution_count": 5,
      "outputs": []
    },
    {
      "cell_type": "code",
      "metadata": {
        "id": "XS0m_O--MzyJ"
      },
      "source": [
        "original_dataset_dir_covid = '/content/CT_COVID/'\n",
        "original_dataset_dir_non_covid = '/content/CT_NonCOVID/'\n",
        "\n",
        "import shutil\n",
        "fnames = ['covid-{}.png'.format(i) for i in range(250)]\n",
        "for fname in fnames:\n",
        "    src = os.path.join(original_dataset_dir_covid, fname)\n",
        "    dst = os.path.join(train_dir, fname)\n",
        "    #print(src,dst)\n",
        "    shutil.copyfile(src, dst)\n",
        "    \n",
        "fnames = ['covid-{}.png'.format(i) for i in range(250, 300)]\n",
        "for fname in fnames:\n",
        "    src = os.path.join(original_dataset_dir_covid, fname)\n",
        "    dst = os.path.join(validation_dir, fname)\n",
        "    shutil.copyfile(src, dst)\n",
        "\n",
        "fnames = ['covid-{}.png'.format(i) for i in range(300, 348)]\n",
        "for fname in fnames:\n",
        "    src = os.path.join(original_dataset_dir_covid, fname)\n",
        "    dst = os.path.join(test_dir, fname)\n",
        "    shutil.copyfile(src, dst)"
      ],
      "execution_count": 6,
      "outputs": []
    },
    {
      "cell_type": "code",
      "metadata": {
        "id": "XQ4zS3ZtM2xD"
      },
      "source": [
        "fnames = ['noncovid-{}.png'.format(i) for i in range(250)]\n",
        "for fname in fnames:\n",
        "    src = os.path.join(original_dataset_dir_non_covid, fname)\n",
        "    dst = os.path.join(train_dir, fname)\n",
        "    shutil.copyfile(src, dst)\n",
        "\n",
        "fnames = ['noncovid-{}.png'.format(i) for i in range(250, 300)]\n",
        "for fname in fnames:\n",
        "    src = os.path.join(original_dataset_dir_non_covid, fname)\n",
        "    dst = os.path.join(validation_dir, fname)\n",
        "    shutil.copyfile(src, dst)\n",
        "\n",
        "fnames = ['noncovid-{}.png'.format(i) for i in range(300, 348)]\n",
        "for fname in fnames:\n",
        "    src = os.path.join(original_dataset_dir_non_covid, fname)\n",
        "    dst = os.path.join(test_dir, fname)\n",
        "    shutil.copyfile(src, dst)"
      ],
      "execution_count": 7,
      "outputs": []
    },
    {
      "cell_type": "code",
      "metadata": {
        "id": "XJnxhKaRM5So"
      },
      "source": [
        "import cv2\n",
        "import numpy as np\n",
        "from random import shuffle\n",
        "\n",
        "IMG_SIZE = 224\n",
        "LR = 1e-4"
      ],
      "execution_count": 10,
      "outputs": []
    },
    {
      "cell_type": "code",
      "metadata": {
        "id": "DVNlXdqgM9Au"
      },
      "source": [
        "def label_img(img):\n",
        "    word_label = img.split('-')[0]\n",
        "    if word_label == 'covid': return 1\n",
        "    elif word_label == 'noncovid': return 0"
      ],
      "execution_count": 11,
      "outputs": []
    },
    {
      "cell_type": "code",
      "metadata": {
        "id": "d_f05eX8NFG3"
      },
      "source": [
        "def createDataSplitSet(datapath):\n",
        "    X=[]\n",
        "    y=[]\n",
        "\n",
        "    for img in os.listdir(datapath):\n",
        "        label = label_img(img)\n",
        "        path = os.path.join(datapath, img)\n",
        "        image = cv2.resize(cv2.imread(path), (IMG_SIZE, IMG_SIZE))\n",
        "        image = cv2.normalize(image, None, alpha=0, beta=1, norm_type=cv2.NORM_MINMAX, dtype=cv2.CV_32F)\n",
        "\n",
        "        X.append(np.array(image))\n",
        "        y.append(label)\n",
        "\n",
        "    return np.array(X), np.array(y)"
      ],
      "execution_count": 12,
      "outputs": []
    },
    {
      "cell_type": "code",
      "metadata": {
        "id": "M328PiKcNHtY"
      },
      "source": [
        "train_X, train_y = createDataSplitSet(train_dir)\n",
        "val_X, val_y = createDataSplitSet(validation_dir)\n",
        "test_X, test_y = createDataSplitSet(test_dir)"
      ],
      "execution_count": 13,
      "outputs": []
    },
    {
      "cell_type": "code",
      "metadata": {
        "id": "9qYRgufnNJ4G"
      },
      "source": [
        "## VGG 16\n",
        "\n",
        "from tensorflow.keras.applications import VGG16\n",
        "from tensorflow.keras.layers import Dense, Input\n",
        "from tensorflow.keras import Model\n",
        "\n",
        "img_input = Input(shape=(IMG_SIZE, IMG_SIZE, 3))"
      ],
      "execution_count": 14,
      "outputs": []
    },
    {
      "cell_type": "code",
      "metadata": {
        "colab": {
          "base_uri": "https://localhost:8080/"
        },
        "id": "s65JWGCVNMLH",
        "outputId": "19548460-786a-4e41-b789-7d258c4c71fc"
      },
      "source": [
        "model = VGG16(\n",
        "    include_top=True,\n",
        "    weights=\"imagenet\",\n",
        "    input_tensor=img_input,\n",
        "    input_shape=None,\n",
        "    pooling=None,\n",
        "    classes=1000,\n",
        "    classifier_activation=\"softmax\",\n",
        ")\n",
        "model.summary()"
      ],
      "execution_count": 15,
      "outputs": [
        {
          "output_type": "stream",
          "text": [
            "Downloading data from https://storage.googleapis.com/tensorflow/keras-applications/vgg16/vgg16_weights_tf_dim_ordering_tf_kernels.h5\n",
            "553467904/553467096 [==============================] - 5s 0us/step\n",
            "Model: \"vgg16\"\n",
            "_________________________________________________________________\n",
            "Layer (type)                 Output Shape              Param #   \n",
            "=================================================================\n",
            "input_1 (InputLayer)         [(None, 224, 224, 3)]     0         \n",
            "_________________________________________________________________\n",
            "block1_conv1 (Conv2D)        (None, 224, 224, 64)      1792      \n",
            "_________________________________________________________________\n",
            "block1_conv2 (Conv2D)        (None, 224, 224, 64)      36928     \n",
            "_________________________________________________________________\n",
            "block1_pool (MaxPooling2D)   (None, 112, 112, 64)      0         \n",
            "_________________________________________________________________\n",
            "block2_conv1 (Conv2D)        (None, 112, 112, 128)     73856     \n",
            "_________________________________________________________________\n",
            "block2_conv2 (Conv2D)        (None, 112, 112, 128)     147584    \n",
            "_________________________________________________________________\n",
            "block2_pool (MaxPooling2D)   (None, 56, 56, 128)       0         \n",
            "_________________________________________________________________\n",
            "block3_conv1 (Conv2D)        (None, 56, 56, 256)       295168    \n",
            "_________________________________________________________________\n",
            "block3_conv2 (Conv2D)        (None, 56, 56, 256)       590080    \n",
            "_________________________________________________________________\n",
            "block3_conv3 (Conv2D)        (None, 56, 56, 256)       590080    \n",
            "_________________________________________________________________\n",
            "block3_pool (MaxPooling2D)   (None, 28, 28, 256)       0         \n",
            "_________________________________________________________________\n",
            "block4_conv1 (Conv2D)        (None, 28, 28, 512)       1180160   \n",
            "_________________________________________________________________\n",
            "block4_conv2 (Conv2D)        (None, 28, 28, 512)       2359808   \n",
            "_________________________________________________________________\n",
            "block4_conv3 (Conv2D)        (None, 28, 28, 512)       2359808   \n",
            "_________________________________________________________________\n",
            "block4_pool (MaxPooling2D)   (None, 14, 14, 512)       0         \n",
            "_________________________________________________________________\n",
            "block5_conv1 (Conv2D)        (None, 14, 14, 512)       2359808   \n",
            "_________________________________________________________________\n",
            "block5_conv2 (Conv2D)        (None, 14, 14, 512)       2359808   \n",
            "_________________________________________________________________\n",
            "block5_conv3 (Conv2D)        (None, 14, 14, 512)       2359808   \n",
            "_________________________________________________________________\n",
            "block5_pool (MaxPooling2D)   (None, 7, 7, 512)         0         \n",
            "_________________________________________________________________\n",
            "flatten (Flatten)            (None, 25088)             0         \n",
            "_________________________________________________________________\n",
            "fc1 (Dense)                  (None, 4096)              102764544 \n",
            "_________________________________________________________________\n",
            "fc2 (Dense)                  (None, 4096)              16781312  \n",
            "_________________________________________________________________\n",
            "predictions (Dense)          (None, 1000)              4097000   \n",
            "=================================================================\n",
            "Total params: 138,357,544\n",
            "Trainable params: 138,357,544\n",
            "Non-trainable params: 0\n",
            "_________________________________________________________________\n"
          ],
          "name": "stdout"
        }
      ]
    },
    {
      "cell_type": "code",
      "metadata": {
        "colab": {
          "base_uri": "https://localhost:8080/"
        },
        "id": "tRDcwnxNNO2r",
        "outputId": "296a83cc-6b32-41e4-fa86-5f0945599118"
      },
      "source": [
        "last_layer = model.get_layer('fc2').output\n",
        "out = Dense(1, activation='sigmoid', name='output')(last_layer)  ## 2 classes\n",
        "model = Model(img_input, out)\n",
        "\n",
        "for layer in model.layers[:-1]:\n",
        "\tlayer.trainable = False\n",
        "\n",
        "model.summary()"
      ],
      "execution_count": 16,
      "outputs": [
        {
          "output_type": "stream",
          "text": [
            "Model: \"functional_1\"\n",
            "_________________________________________________________________\n",
            "Layer (type)                 Output Shape              Param #   \n",
            "=================================================================\n",
            "input_1 (InputLayer)         [(None, 224, 224, 3)]     0         \n",
            "_________________________________________________________________\n",
            "block1_conv1 (Conv2D)        (None, 224, 224, 64)      1792      \n",
            "_________________________________________________________________\n",
            "block1_conv2 (Conv2D)        (None, 224, 224, 64)      36928     \n",
            "_________________________________________________________________\n",
            "block1_pool (MaxPooling2D)   (None, 112, 112, 64)      0         \n",
            "_________________________________________________________________\n",
            "block2_conv1 (Conv2D)        (None, 112, 112, 128)     73856     \n",
            "_________________________________________________________________\n",
            "block2_conv2 (Conv2D)        (None, 112, 112, 128)     147584    \n",
            "_________________________________________________________________\n",
            "block2_pool (MaxPooling2D)   (None, 56, 56, 128)       0         \n",
            "_________________________________________________________________\n",
            "block3_conv1 (Conv2D)        (None, 56, 56, 256)       295168    \n",
            "_________________________________________________________________\n",
            "block3_conv2 (Conv2D)        (None, 56, 56, 256)       590080    \n",
            "_________________________________________________________________\n",
            "block3_conv3 (Conv2D)        (None, 56, 56, 256)       590080    \n",
            "_________________________________________________________________\n",
            "block3_pool (MaxPooling2D)   (None, 28, 28, 256)       0         \n",
            "_________________________________________________________________\n",
            "block4_conv1 (Conv2D)        (None, 28, 28, 512)       1180160   \n",
            "_________________________________________________________________\n",
            "block4_conv2 (Conv2D)        (None, 28, 28, 512)       2359808   \n",
            "_________________________________________________________________\n",
            "block4_conv3 (Conv2D)        (None, 28, 28, 512)       2359808   \n",
            "_________________________________________________________________\n",
            "block4_pool (MaxPooling2D)   (None, 14, 14, 512)       0         \n",
            "_________________________________________________________________\n",
            "block5_conv1 (Conv2D)        (None, 14, 14, 512)       2359808   \n",
            "_________________________________________________________________\n",
            "block5_conv2 (Conv2D)        (None, 14, 14, 512)       2359808   \n",
            "_________________________________________________________________\n",
            "block5_conv3 (Conv2D)        (None, 14, 14, 512)       2359808   \n",
            "_________________________________________________________________\n",
            "block5_pool (MaxPooling2D)   (None, 7, 7, 512)         0         \n",
            "_________________________________________________________________\n",
            "flatten (Flatten)            (None, 25088)             0         \n",
            "_________________________________________________________________\n",
            "fc1 (Dense)                  (None, 4096)              102764544 \n",
            "_________________________________________________________________\n",
            "fc2 (Dense)                  (None, 4096)              16781312  \n",
            "_________________________________________________________________\n",
            "output (Dense)               (None, 1)                 4097      \n",
            "=================================================================\n",
            "Total params: 134,264,641\n",
            "Trainable params: 4,097\n",
            "Non-trainable params: 134,260,544\n",
            "_________________________________________________________________\n"
          ],
          "name": "stdout"
        }
      ]
    },
    {
      "cell_type": "code",
      "metadata": {
        "id": "uS6iIcMbNUKS"
      },
      "source": [
        "model.compile(loss='binary_crossentropy',\n",
        "              optimizer='adam',\n",
        "              metrics=['acc'])"
      ],
      "execution_count": 17,
      "outputs": []
    },
    {
      "cell_type": "code",
      "metadata": {
        "id": "PIGnsnfxNae8"
      },
      "source": [
        "from tensorflow.keras.callbacks import EarlyStopping, ModelCheckpoint\n",
        "my_callbacks = [\n",
        "    EarlyStopping(monitor=\"val_loss\", patience=10, restore_best_weights=True),\n",
        "    ModelCheckpoint(filepath='vgg16_model.h5', save_best_only=True),\n",
        "]"
      ],
      "execution_count": 18,
      "outputs": []
    },
    {
      "cell_type": "code",
      "metadata": {
        "colab": {
          "base_uri": "https://localhost:8080/"
        },
        "id": "sO3ej1_zNex-",
        "outputId": "299288b5-a3b4-4ae2-c7b2-eb3ef8fc5069"
      },
      "source": [
        "history = model.fit(train_X, train_y,\n",
        "                              batch_size=10,\n",
        "                              epochs=100, \n",
        "                              validation_data=(val_X, val_y),\n",
        "                              callbacks=my_callbacks)"
      ],
      "execution_count": 19,
      "outputs": [
        {
          "output_type": "stream",
          "text": [
            "Epoch 1/100\n",
            " 1/50 [..............................] - ETA: 0s - loss: 0.9818 - acc: 0.5000WARNING:tensorflow:Callbacks method `on_train_batch_end` is slow compared to the batch time (batch time: 0.0084s vs `on_train_batch_end` time: 0.0352s). Check your callbacks.\n",
            "50/50 [==============================] - ETA: 0s - loss: 0.7488 - acc: 0.5200WARNING:tensorflow:Callbacks method `on_test_batch_end` is slow compared to the batch time (batch time: 0.0038s vs `on_test_batch_end` time: 0.0456s). Check your callbacks.\n",
            "50/50 [==============================] - 6s 110ms/step - loss: 0.7488 - acc: 0.5200 - val_loss: 0.6396 - val_acc: 0.5900\n",
            "Epoch 2/100\n",
            "50/50 [==============================] - 5s 101ms/step - loss: 0.6611 - acc: 0.5960 - val_loss: 0.5935 - val_acc: 0.7300\n",
            "Epoch 3/100\n",
            "50/50 [==============================] - 3s 62ms/step - loss: 0.6166 - acc: 0.6540 - val_loss: 0.6789 - val_acc: 0.5700\n",
            "Epoch 4/100\n",
            "50/50 [==============================] - 3s 61ms/step - loss: 0.5872 - acc: 0.6820 - val_loss: 0.6574 - val_acc: 0.5500\n",
            "Epoch 5/100\n",
            "50/50 [==============================] - 5s 99ms/step - loss: 0.5572 - acc: 0.7200 - val_loss: 0.5287 - val_acc: 0.7700\n",
            "Epoch 6/100\n",
            "50/50 [==============================] - 3s 63ms/step - loss: 0.5793 - acc: 0.6780 - val_loss: 0.9680 - val_acc: 0.5100\n",
            "Epoch 7/100\n",
            "50/50 [==============================] - 3s 62ms/step - loss: 0.6518 - acc: 0.6380 - val_loss: 0.6303 - val_acc: 0.6000\n",
            "Epoch 8/100\n",
            "50/50 [==============================] - 3s 63ms/step - loss: 0.5543 - acc: 0.7200 - val_loss: 0.6848 - val_acc: 0.5700\n",
            "Epoch 9/100\n",
            "50/50 [==============================] - 5s 103ms/step - loss: 0.5116 - acc: 0.7420 - val_loss: 0.5159 - val_acc: 0.7400\n",
            "Epoch 10/100\n",
            "50/50 [==============================] - 5s 101ms/step - loss: 0.5092 - acc: 0.7360 - val_loss: 0.4991 - val_acc: 0.7700\n",
            "Epoch 11/100\n",
            "50/50 [==============================] - 10s 192ms/step - loss: 0.5188 - acc: 0.7180 - val_loss: 0.4796 - val_acc: 0.8300\n",
            "Epoch 12/100\n",
            "50/50 [==============================] - 3s 65ms/step - loss: 0.5168 - acc: 0.7500 - val_loss: 0.5544 - val_acc: 0.7100\n",
            "Epoch 13/100\n",
            "50/50 [==============================] - 11s 220ms/step - loss: 0.5045 - acc: 0.7520 - val_loss: 0.4763 - val_acc: 0.8100\n",
            "Epoch 14/100\n",
            "50/50 [==============================] - 3s 66ms/step - loss: 0.4792 - acc: 0.7880 - val_loss: 0.4860 - val_acc: 0.8100\n",
            "Epoch 15/100\n",
            "50/50 [==============================] - 3s 65ms/step - loss: 0.5013 - acc: 0.7480 - val_loss: 0.4827 - val_acc: 0.8100\n",
            "Epoch 16/100\n",
            "50/50 [==============================] - 3s 67ms/step - loss: 0.4877 - acc: 0.7680 - val_loss: 0.6301 - val_acc: 0.6700\n",
            "Epoch 17/100\n",
            "50/50 [==============================] - 3s 67ms/step - loss: 0.4796 - acc: 0.7660 - val_loss: 0.4790 - val_acc: 0.7900\n",
            "Epoch 18/100\n",
            "50/50 [==============================] - 5s 106ms/step - loss: 0.4777 - acc: 0.7420 - val_loss: 0.4661 - val_acc: 0.8000\n",
            "Epoch 19/100\n",
            "50/50 [==============================] - 4s 70ms/step - loss: 0.4878 - acc: 0.7560 - val_loss: 0.5113 - val_acc: 0.7200\n",
            "Epoch 20/100\n",
            "50/50 [==============================] - 4s 71ms/step - loss: 0.4755 - acc: 0.7660 - val_loss: 0.4683 - val_acc: 0.8000\n",
            "Epoch 21/100\n",
            "50/50 [==============================] - 6s 112ms/step - loss: 0.4448 - acc: 0.7940 - val_loss: 0.4474 - val_acc: 0.8000\n",
            "Epoch 22/100\n",
            "50/50 [==============================] - 4s 71ms/step - loss: 0.4491 - acc: 0.7860 - val_loss: 0.4586 - val_acc: 0.8000\n",
            "Epoch 23/100\n",
            "50/50 [==============================] - 6s 112ms/step - loss: 0.4291 - acc: 0.8200 - val_loss: 0.4460 - val_acc: 0.8200\n",
            "Epoch 24/100\n",
            "50/50 [==============================] - 15s 309ms/step - loss: 0.4378 - acc: 0.8060 - val_loss: 0.4384 - val_acc: 0.8100\n",
            "Epoch 25/100\n",
            "50/50 [==============================] - 10s 201ms/step - loss: 0.4222 - acc: 0.8140 - val_loss: 0.4375 - val_acc: 0.8100\n",
            "Epoch 26/100\n",
            "50/50 [==============================] - 3s 65ms/step - loss: 0.4330 - acc: 0.8040 - val_loss: 0.5242 - val_acc: 0.6900\n",
            "Epoch 27/100\n",
            "50/50 [==============================] - 3s 65ms/step - loss: 0.4599 - acc: 0.7780 - val_loss: 0.5034 - val_acc: 0.7400\n",
            "Epoch 28/100\n",
            "50/50 [==============================] - 3s 66ms/step - loss: 0.4260 - acc: 0.8100 - val_loss: 0.4725 - val_acc: 0.7600\n",
            "Epoch 29/100\n",
            "50/50 [==============================] - 3s 67ms/step - loss: 0.4251 - acc: 0.7980 - val_loss: 0.4441 - val_acc: 0.8000\n",
            "Epoch 30/100\n",
            "50/50 [==============================] - 3s 68ms/step - loss: 0.4104 - acc: 0.8260 - val_loss: 0.4621 - val_acc: 0.8000\n",
            "Epoch 31/100\n",
            "50/50 [==============================] - 3s 69ms/step - loss: 0.4313 - acc: 0.8000 - val_loss: 0.4906 - val_acc: 0.7300\n",
            "Epoch 32/100\n",
            "50/50 [==============================] - 4s 71ms/step - loss: 0.4113 - acc: 0.8160 - val_loss: 0.5283 - val_acc: 0.7300\n",
            "Epoch 33/100\n",
            "50/50 [==============================] - 6s 112ms/step - loss: 0.4014 - acc: 0.8320 - val_loss: 0.4219 - val_acc: 0.8100\n",
            "Epoch 34/100\n",
            "50/50 [==============================] - 4s 71ms/step - loss: 0.4237 - acc: 0.7980 - val_loss: 0.4327 - val_acc: 0.8100\n",
            "Epoch 35/100\n",
            "50/50 [==============================] - 4s 71ms/step - loss: 0.4034 - acc: 0.8200 - val_loss: 0.4412 - val_acc: 0.7900\n",
            "Epoch 36/100\n",
            "50/50 [==============================] - 3s 70ms/step - loss: 0.3940 - acc: 0.8340 - val_loss: 0.4247 - val_acc: 0.8100\n",
            "Epoch 37/100\n",
            "50/50 [==============================] - 3s 69ms/step - loss: 0.3945 - acc: 0.8160 - val_loss: 0.4676 - val_acc: 0.7800\n",
            "Epoch 38/100\n",
            "50/50 [==============================] - 3s 69ms/step - loss: 0.4186 - acc: 0.7920 - val_loss: 0.4745 - val_acc: 0.7600\n",
            "Epoch 39/100\n",
            "50/50 [==============================] - 3s 68ms/step - loss: 0.4144 - acc: 0.8320 - val_loss: 0.4277 - val_acc: 0.8000\n",
            "Epoch 40/100\n",
            "50/50 [==============================] - 3s 67ms/step - loss: 0.4137 - acc: 0.8040 - val_loss: 0.4225 - val_acc: 0.8000\n",
            "Epoch 41/100\n",
            "50/50 [==============================] - 3s 67ms/step - loss: 0.3906 - acc: 0.8100 - val_loss: 0.4426 - val_acc: 0.8000\n",
            "Epoch 42/100\n",
            "50/50 [==============================] - 5s 106ms/step - loss: 0.3717 - acc: 0.8320 - val_loss: 0.4088 - val_acc: 0.8100\n",
            "Epoch 43/100\n",
            "50/50 [==============================] - 3s 66ms/step - loss: 0.3780 - acc: 0.8460 - val_loss: 0.4112 - val_acc: 0.8100\n",
            "Epoch 44/100\n",
            "50/50 [==============================] - 3s 66ms/step - loss: 0.4614 - acc: 0.7960 - val_loss: 0.4181 - val_acc: 0.8100\n",
            "Epoch 45/100\n",
            "50/50 [==============================] - 3s 66ms/step - loss: 0.3798 - acc: 0.8500 - val_loss: 0.4092 - val_acc: 0.7900\n",
            "Epoch 46/100\n",
            "50/50 [==============================] - 3s 65ms/step - loss: 0.3775 - acc: 0.8340 - val_loss: 0.4727 - val_acc: 0.7800\n",
            "Epoch 47/100\n",
            "50/50 [==============================] - 3s 65ms/step - loss: 0.3541 - acc: 0.8540 - val_loss: 0.4798 - val_acc: 0.7700\n",
            "Epoch 48/100\n",
            "50/50 [==============================] - 3s 65ms/step - loss: 0.3743 - acc: 0.8320 - val_loss: 0.4239 - val_acc: 0.8000\n",
            "Epoch 49/100\n",
            "50/50 [==============================] - 3s 65ms/step - loss: 0.3595 - acc: 0.8460 - val_loss: 0.4120 - val_acc: 0.8300\n",
            "Epoch 50/100\n",
            "50/50 [==============================] - 3s 66ms/step - loss: 0.3829 - acc: 0.8240 - val_loss: 0.4233 - val_acc: 0.7900\n",
            "Epoch 51/100\n",
            "50/50 [==============================] - 3s 66ms/step - loss: 0.3511 - acc: 0.8680 - val_loss: 0.4812 - val_acc: 0.7600\n",
            "Epoch 52/100\n",
            "50/50 [==============================] - 5s 106ms/step - loss: 0.3660 - acc: 0.8500 - val_loss: 0.4060 - val_acc: 0.8100\n",
            "Epoch 53/100\n",
            "50/50 [==============================] - 3s 66ms/step - loss: 0.3624 - acc: 0.8460 - val_loss: 0.5216 - val_acc: 0.7600\n",
            "Epoch 54/100\n",
            "50/50 [==============================] - 3s 66ms/step - loss: 0.3773 - acc: 0.8260 - val_loss: 0.4117 - val_acc: 0.8200\n",
            "Epoch 55/100\n",
            "50/50 [==============================] - 3s 66ms/step - loss: 0.3958 - acc: 0.8100 - val_loss: 0.4627 - val_acc: 0.7700\n",
            "Epoch 56/100\n",
            "50/50 [==============================] - 3s 67ms/step - loss: 0.3707 - acc: 0.8380 - val_loss: 0.5027 - val_acc: 0.7700\n",
            "Epoch 57/100\n",
            "50/50 [==============================] - 3s 67ms/step - loss: 0.3733 - acc: 0.8380 - val_loss: 0.4105 - val_acc: 0.8100\n",
            "Epoch 58/100\n",
            "50/50 [==============================] - 3s 67ms/step - loss: 0.3612 - acc: 0.8500 - val_loss: 0.4178 - val_acc: 0.7900\n",
            "Epoch 59/100\n",
            "50/50 [==============================] - 3s 67ms/step - loss: 0.3503 - acc: 0.8420 - val_loss: 0.5084 - val_acc: 0.7600\n",
            "Epoch 60/100\n",
            "50/50 [==============================] - 3s 67ms/step - loss: 0.3450 - acc: 0.8540 - val_loss: 0.4077 - val_acc: 0.8000\n",
            "Epoch 61/100\n",
            "50/50 [==============================] - 3s 67ms/step - loss: 0.3441 - acc: 0.8500 - val_loss: 0.4276 - val_acc: 0.8100\n",
            "Epoch 62/100\n",
            "50/50 [==============================] - 5s 108ms/step - loss: 0.3311 - acc: 0.8540 - val_loss: 0.4002 - val_acc: 0.8100\n",
            "Epoch 63/100\n",
            "50/50 [==============================] - 3s 68ms/step - loss: 0.3375 - acc: 0.8440 - val_loss: 0.5610 - val_acc: 0.7100\n",
            "Epoch 64/100\n",
            "50/50 [==============================] - 3s 67ms/step - loss: 0.3351 - acc: 0.8460 - val_loss: 0.4136 - val_acc: 0.8100\n",
            "Epoch 65/100\n",
            "50/50 [==============================] - 3s 67ms/step - loss: 0.3291 - acc: 0.8620 - val_loss: 0.4296 - val_acc: 0.8100\n",
            "Epoch 66/100\n",
            "50/50 [==============================] - 5s 108ms/step - loss: 0.3198 - acc: 0.8680 - val_loss: 0.3957 - val_acc: 0.8200\n",
            "Epoch 67/100\n",
            "50/50 [==============================] - 3s 67ms/step - loss: 0.3205 - acc: 0.8660 - val_loss: 0.4132 - val_acc: 0.8100\n",
            "Epoch 68/100\n",
            "50/50 [==============================] - 3s 67ms/step - loss: 0.3198 - acc: 0.8740 - val_loss: 0.4411 - val_acc: 0.7900\n",
            "Epoch 69/100\n",
            "50/50 [==============================] - 3s 67ms/step - loss: 0.3262 - acc: 0.8660 - val_loss: 0.5505 - val_acc: 0.7300\n",
            "Epoch 70/100\n",
            "50/50 [==============================] - 3s 67ms/step - loss: 0.3379 - acc: 0.8380 - val_loss: 0.4718 - val_acc: 0.7700\n",
            "Epoch 71/100\n",
            "50/50 [==============================] - 3s 67ms/step - loss: 0.3267 - acc: 0.8640 - val_loss: 0.4550 - val_acc: 0.7800\n",
            "Epoch 72/100\n",
            "50/50 [==============================] - 5s 108ms/step - loss: 0.3199 - acc: 0.8560 - val_loss: 0.3939 - val_acc: 0.8100\n",
            "Epoch 73/100\n",
            "50/50 [==============================] - 3s 67ms/step - loss: 0.3189 - acc: 0.8500 - val_loss: 0.4644 - val_acc: 0.7500\n",
            "Epoch 74/100\n",
            "50/50 [==============================] - 5s 108ms/step - loss: 0.3638 - acc: 0.8520 - val_loss: 0.3936 - val_acc: 0.8100\n",
            "Epoch 75/100\n",
            "50/50 [==============================] - 3s 67ms/step - loss: 0.3363 - acc: 0.8580 - val_loss: 0.4329 - val_acc: 0.8000\n",
            "Epoch 76/100\n",
            "50/50 [==============================] - 3s 66ms/step - loss: 0.3206 - acc: 0.8740 - val_loss: 0.5268 - val_acc: 0.7400\n",
            "Epoch 77/100\n",
            "50/50 [==============================] - 3s 67ms/step - loss: 0.3031 - acc: 0.8720 - val_loss: 0.4106 - val_acc: 0.8100\n",
            "Epoch 78/100\n",
            "50/50 [==============================] - 5s 109ms/step - loss: 0.3050 - acc: 0.8660 - val_loss: 0.3878 - val_acc: 0.8100\n",
            "Epoch 79/100\n",
            "50/50 [==============================] - 3s 68ms/step - loss: 0.3012 - acc: 0.8760 - val_loss: 0.4158 - val_acc: 0.8100\n",
            "Epoch 80/100\n",
            "50/50 [==============================] - 5s 106ms/step - loss: 0.2990 - acc: 0.8700 - val_loss: 0.3869 - val_acc: 0.8200\n",
            "Epoch 81/100\n",
            "50/50 [==============================] - 3s 67ms/step - loss: 0.3082 - acc: 0.8640 - val_loss: 0.3971 - val_acc: 0.8300\n",
            "Epoch 82/100\n",
            "50/50 [==============================] - 3s 67ms/step - loss: 0.3083 - acc: 0.8940 - val_loss: 0.4101 - val_acc: 0.8200\n",
            "Epoch 83/100\n",
            "50/50 [==============================] - 3s 67ms/step - loss: 0.3398 - acc: 0.8400 - val_loss: 0.4465 - val_acc: 0.7700\n",
            "Epoch 84/100\n",
            "50/50 [==============================] - 3s 67ms/step - loss: 0.3224 - acc: 0.8620 - val_loss: 0.4078 - val_acc: 0.8400\n",
            "Epoch 85/100\n",
            "50/50 [==============================] - 3s 67ms/step - loss: 0.2914 - acc: 0.8920 - val_loss: 0.5175 - val_acc: 0.7500\n",
            "Epoch 86/100\n",
            "50/50 [==============================] - 3s 67ms/step - loss: 0.3023 - acc: 0.8900 - val_loss: 0.3902 - val_acc: 0.8300\n",
            "Epoch 87/100\n",
            "50/50 [==============================] - 3s 67ms/step - loss: 0.2902 - acc: 0.8960 - val_loss: 0.3962 - val_acc: 0.8400\n",
            "Epoch 88/100\n",
            "50/50 [==============================] - 3s 67ms/step - loss: 0.2974 - acc: 0.8560 - val_loss: 0.3981 - val_acc: 0.8200\n",
            "Epoch 89/100\n",
            "50/50 [==============================] - 3s 67ms/step - loss: 0.3136 - acc: 0.8720 - val_loss: 0.4313 - val_acc: 0.8000\n",
            "Epoch 90/100\n",
            "50/50 [==============================] - 3s 70ms/step - loss: 0.2890 - acc: 0.8860 - val_loss: 0.5131 - val_acc: 0.7400\n"
          ],
          "name": "stdout"
        }
      ]
    },
    {
      "cell_type": "code",
      "metadata": {
        "colab": {
          "base_uri": "https://localhost:8080/",
          "height": 545
        },
        "id": "Ngl01JRYeBrK",
        "outputId": "69f97432-210f-470c-8cbd-2e24adf2b9f0"
      },
      "source": [
        "\n",
        "import matplotlib.pyplot as plt\n",
        "\n",
        "acc = history.history['acc']\n",
        "val_acc = history.history['val_acc']\n",
        "loss = history.history['loss']\n",
        "val_loss = history.history['val_loss']\n",
        "\n",
        "epochs = range(1, len(acc) + 1)\n",
        "\n",
        "plt.plot(epochs, acc, 'bo', label='Training acc')\n",
        "plt.plot(epochs, val_acc, 'b', label='Validation acc')\n",
        "plt.title('Training and validation accuracy')\n",
        "plt.legend()\n",
        "\n",
        "plt.figure()\n",
        "\n",
        "plt.plot(epochs, loss, 'bo', label='Training loss')\n",
        "plt.plot(epochs, val_loss, 'b', label='Validation loss')\n",
        "plt.title('Training and validation loss')\n",
        "plt.legend()\n",
        "\n",
        "plt.show()"
      ],
      "execution_count": 20,
      "outputs": [
        {
          "output_type": "display_data",
          "data": {
            "image/png": "[encoded data removed]",
            "text/plain": [
              "<Figure size 432x288 with 1 Axes>"
            ]
          },
          "metadata": {
            "tags": [],
            "needs_background": "light"
          }
        },
        {
          "output_type": "display_data",
          "data": {
            "image/png": "[encoded data removed]",
            "text/plain": [
              "<Figure size 432x288 with 1 Axes>"
            ]
          },
          "metadata": {
            "tags": [],
            "needs_background": "light"
          }
        }
      ]
    },
    {
      "cell_type": "code",
      "metadata": {
        "colab": {
          "base_uri": "https://localhost:8080/"
        },
        "id": "B5G9_lDQeG4U",
        "outputId": "589c4d88-8e3b-4bde-c85e-22375e906666"
      },
      "source": [
        "from sklearn.metrics import accuracy_score\n",
        "\n",
        "## Test Accuracy\n",
        "predictions = model.predict(test_X)\n",
        "ypred = predictions > 0.5\n",
        "test_acc = accuracy_score(test_y, ypred)\n",
        "\n",
        "from sklearn.metrics import precision_recall_fscore_support, roc_auc_score\n",
        "\n",
        "precision, recall, f1score, _ = precision_recall_fscore_support(test_y, ypred, average='binary')\n",
        "\n",
        "auc = roc_auc_score(test_y, ypred)\n",
        "\n",
        "print(\"Train Accuracy:\\t\", acc[-1])\n",
        "print(\"Val Accuracy:\\t\", val_acc[-1])\n",
        "print(\"Test Accuracy:\\t\", test_acc)\n",
        "print(\"Precision:\\t\", precision)\n",
        "print(\"Recall:\\t\\t\", recall)\n",
        "print(\"F1 Score:\\t\", f1score)\n",
        "print(\"AUC:\\t\\t\", auc)"
      ],
      "execution_count": 21,
      "outputs": [
        {
          "output_type": "stream",
          "text": [
            "Train Accuracy:\t 0.8859999775886536\n",
            "Val Accuracy:\t 0.7400000095367432\n",
            "Test Accuracy:\t 0.84375\n",
            "Precision:\t 0.9459459459459459\n",
            "Recall:\t\t 0.7291666666666666\n",
            "F1 Score:\t 0.8235294117647058\n",
            "AUC:\t\t 0.84375\n"
          ],
          "name": "stdout"
        }
      ]
    }
  ]
}